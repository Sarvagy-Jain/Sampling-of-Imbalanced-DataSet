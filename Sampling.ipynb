{
  "nbformat": 4,
  "nbformat_minor": 0,
  "metadata": {
    "colab": {
      "provenance": [],
      "authorship_tag": "ABX9TyPA9ZL7/K2lRDF/FaI+FDQS",
      "include_colab_link": true
    },
    "kernelspec": {
      "name": "python3",
      "display_name": "Python 3"
    },
    "language_info": {
      "name": "python"
    }
  },
  "cells": [
    {
      "cell_type": "markdown",
      "metadata": {
        "id": "view-in-github",
        "colab_type": "text"
      },
      "source": [
        "<a href=\"https://colab.research.google.com/github/Sarvagy-Jain/Sampling-of-Imbalanced-DataSet-/blob/main/Sampling.ipynb\" target=\"_parent\"><img src=\"https://colab.research.google.com/assets/colab-badge.svg\" alt=\"Open In Colab\"/></a>"
      ]
    },
    {
      "cell_type": "code",
      "source": [
        "from sklearn.model_selection import train_test_split\n",
        "from sklearn.svm import SVC \n",
        "from sklearn.neighbors import KNeighborsClassifier\n",
        "from sklearn.tree import DecisionTreeClassifier\n",
        "from sklearn.ensemble import RandomForestClassifier\n",
        "from sklearn.naive_bayes import GaussianNB\n",
        "from sklearn.metrics import accuracy_score\n",
        " \n",
        "from matplotlib import pyplot as plt"
      ],
      "metadata": {
        "id": "AFQRzSW8puH-"
      },
      "execution_count": 17,
      "outputs": []
    },
    {
      "cell_type": "code",
      "source": [
        "import pandas as pd\n",
        "url = 'https://raw.githubusercontent.com/AnjulaMehto/Sampling_DataSet/main/Creditcard_data.csv'\n",
        "df = pd.read_csv(url,index_col=0, on_bad_lines='skip')"
      ],
      "metadata": {
        "id": "qLB01NUWpG98"
      },
      "execution_count": 2,
      "outputs": []
    },
    {
      "cell_type": "code",
      "source": [
        "data = df\n",
        "x = data.drop(['Class'],axis=1)\n",
        "y = data['Class']\n",
        "y.value_counts().plot(kind='bar');"
      ],
      "metadata": {
        "id": "eoxqpEEhpJgY",
        "colab": {
          "base_uri": "https://localhost:8080/",
          "height": 265
        },
        "outputId": "eb798be7-caf9-421b-8419-6afe120f259c"
      },
      "execution_count": 19,
      "outputs": [
        {
          "output_type": "display_data",
          "data": {
            "text/plain": [
              "<Figure size 432x288 with 1 Axes>"
            ],
            "image/png": "[encoded data removed]"
          },
          "metadata": {
            "needs_background": "light"
          }
        }
      ]
    },
    {
      "cell_type": "code",
      "execution_count": 4,
      "metadata": {
        "id": "_Qb82XQ7pCqU",
        "colab": {
          "base_uri": "https://localhost:8080/"
        },
        "outputId": "3a7bae3c-01c1-4d83-862f-9730da0d22bb"
      },
      "outputs": [
        {
          "output_type": "execute_result",
          "data": {
            "text/plain": [
              "(18, 30)"
            ]
          },
          "metadata": {},
          "execution_count": 4
        }
      ],
      "source": [
        "from imblearn.under_sampling import RandomUnderSampler\n",
        "rus = RandomUnderSampler(random_state=42, replacement=True)# fit predictor and target variable\n",
        "x_rus, y_rus = rus.fit_resample(x, y)\n",
        "Sampled_data1 = pd.concat([x_rus,y_rus],axis =1)\n",
        "Sampled_data1.shape"
      ]
    },
    {
      "cell_type": "code",
      "source": [
        "\n",
        "from imblearn.over_sampling import RandomOverSampler\n",
        "ros = RandomOverSampler(random_state=42)# fit predictor and target variable\n",
        "x_ros, y_ros = ros.fit_resample(x, y)\n",
        "y_ros.value_counts()\n",
        "Sampled_data2 = pd.concat([x_ros,y_ros],axis =1)\n",
        "Sampled_data2.shape"
      ],
      "metadata": {
        "id": "Cw9n2NG7pQJG",
        "colab": {
          "base_uri": "https://localhost:8080/"
        },
        "outputId": "d9f3b25c-2653-4c53-ec2d-98f8ff21d393"
      },
      "execution_count": 5,
      "outputs": [
        {
          "output_type": "execute_result",
          "data": {
            "text/plain": [
              "(1526, 30)"
            ]
          },
          "metadata": {},
          "execution_count": 5
        }
      ]
    },
    {
      "cell_type": "code",
      "source": [
        "# import library\n",
        "from imblearn.under_sampling import TomekLinks\n",
        "tl = RandomOverSampler(sampling_strategy='majority')\n",
        "# fit predictor and target variable\n",
        "x_tl, y_tl = ros.fit_resample(x, y)\n",
        "Sampled_data3 = pd.concat([x_tl,y_tl],axis =1)\n",
        "Sampled_data3.shape"
      ],
      "metadata": {
        "id": "cNMIy4FjpR_9",
        "colab": {
          "base_uri": "https://localhost:8080/"
        },
        "outputId": "22f1cf1c-72fb-41f4-ee2b-5690b60f993e"
      },
      "execution_count": 6,
      "outputs": [
        {
          "output_type": "execute_result",
          "data": {
            "text/plain": [
              "(1526, 30)"
            ]
          },
          "metadata": {},
          "execution_count": 6
        }
      ]
    },
    {
      "cell_type": "code",
      "source": [
        "from imblearn.over_sampling import SMOTE\n",
        "smote = SMOTE()\n",
        "# fit predictor and target variable\n",
        "x_smote, y_smote = smote.fit_resample(x, y)\n",
        "Sampled_data4 = pd.concat([x_smote,y_smote],axis =1)\n",
        "Sampled_data4.shape"
      ],
      "metadata": {
        "id": "ggRvXNNLpVAK",
        "colab": {
          "base_uri": "https://localhost:8080/"
        },
        "outputId": "c12eeb67-73fa-4957-feee-eb5e079cd5ee"
      },
      "execution_count": 7,
      "outputs": [
        {
          "output_type": "execute_result",
          "data": {
            "text/plain": [
              "(1526, 30)"
            ]
          },
          "metadata": {},
          "execution_count": 7
        }
      ]
    },
    {
      "cell_type": "code",
      "source": [
        "from imblearn.under_sampling import NearMiss\n",
        "nm = NearMiss()\n",
        "x_nm, y_nm = nm.fit_resample(x, y)\n",
        "Sampled_data5 = pd.concat([x_nm,y_nm],axis =1)\n",
        "Sampled_data5.shape"
      ],
      "metadata": {
        "id": "G3pBGBsOpXBh",
        "colab": {
          "base_uri": "https://localhost:8080/"
        },
        "outputId": "beba1582-3c8d-48c5-e983-c3ea36a2604d"
      },
      "execution_count": 8,
      "outputs": [
        {
          "output_type": "execute_result",
          "data": {
            "text/plain": [
              "(18, 30)"
            ]
          },
          "metadata": {},
          "execution_count": 8
        }
      ]
    },
    {
      "cell_type": "code",
      "source": [
        "SVM = SVC(kernel='linear') \n",
        "DTR = DecisionTreeClassifier()\n",
        "RFR = RandomForestClassifier()\n",
        "KNR = KNeighborsClassifier()\n",
        "GS = GaussianNB()"
      ],
      "metadata": {
        "id": "QxcUx7VGphaJ"
      },
      "execution_count": 9,
      "outputs": []
    },
    {
      "cell_type": "code",
      "source": [
        "from sklearn.metrics import accuracy_score\n",
        "\n",
        "def getresult(data):\n",
        "  X = data.drop('Class', axis=1)\n",
        "  y = data['Class']\n",
        "  X_train, X_test, y_train, y_test = train_test_split(X, y, test_size=0.2, random_state=42)\n",
        "  li = [SVM,DTR,RFR,KNR,GS]\n",
        "  d = []\n",
        "  for i in li:\n",
        "      i.fit(X_train,y_train)\n",
        "      ypred = i.predict(X_test)\n",
        "      d += [accuracy_score(y_test,ypred)] \n",
        "  return pd.Series(d)\n"
      ],
      "metadata": {
        "id": "ya1OISappoBy"
      },
      "execution_count": 25,
      "outputs": []
    },
    {
      "cell_type": "code",
      "source": [
        "print(getresult(Sampled_data3))"
      ],
      "metadata": {
        "id": "_IIJJfPCqIz1",
        "colab": {
          "base_uri": "https://localhost:8080/"
        },
        "outputId": "1dbaf571-6bec-4026-a5b6-7db3506369fc"
      },
      "execution_count": 26,
      "outputs": [
        {
          "output_type": "stream",
          "name": "stdout",
          "text": [
            "0    0.928105\n",
            "1    0.993464\n",
            "2    1.000000\n",
            "3    0.973856\n",
            "4    0.833333\n",
            "dtype: float64\n"
          ]
        }
      ]
    },
    {
      "cell_type": "code",
      "source": [
        "gettable = pd.concat([getresult(Sampled_data1),getresult(Sampled_data2),getresult(Sampled_data3),getresult(Sampled_data4),getresult(Sampled_data5)],axis=1)"
      ],
      "metadata": {
        "id": "MrA2TICIqWlP"
      },
      "execution_count": 28,
      "outputs": []
    },
    {
      "cell_type": "code",
      "source": [
        "a = pd.DataFrame([\"Support Vector Machine\",\"Decision-Tree -Classifier\",\"RandomForestClassifier\",\"KNeighborsClassifier\",\"GaussianNB\"])\n",
        "gettable = pd.concat([a,gettable],axis=1) \n",
        "gettable.columns = [\"Model/Sample\",\"Random_Under_Sampling\",\"Random_Over_Sampling\",\"TomLinks\",\"SMOTE\",\"NearMiss\"]"
      ],
      "metadata": {
        "id": "eji4rnoduFe3"
      },
      "execution_count": 29,
      "outputs": []
    },
    {
      "cell_type": "code",
      "source": [
        "gettable"
      ],
      "metadata": {
        "id": "NzK9xn-8uaLR",
        "colab": {
          "base_uri": "https://localhost:8080/",
          "height": 206
        },
        "outputId": "95946391-9fc9-4d90-9aa8-6613ecf6e4e0"
      },
      "execution_count": 30,
      "outputs": [
        {
          "output_type": "execute_result",
          "data": {
            "text/plain": [
              "                Model/Sample  Random_Under_Sampling  Random_Over_Sampling  \\\n",
              "0     Support Vector Machine                   0.75              0.928105   \n",
              "1  Decision-Tree -Classifier                   0.50              0.993464   \n",
              "2     RandomForestClassifier                   0.50              1.000000   \n",
              "3       KNeighborsClassifier                   1.00              0.973856   \n",
              "4                 GaussianNB                   0.00              0.833333   \n",
              "\n",
              "   TomLinks     SMOTE  NearMiss  \n",
              "0  0.928105  0.928105      1.00  \n",
              "1  0.993464  0.973856      0.75  \n",
              "2  1.000000  0.990196      0.75  \n",
              "3  0.973856  0.944444      1.00  \n",
              "4  0.833333  0.748366      1.00  "
            ],
            "text/html": [
              "\n",
              "  <div id=\"df-3365a2ab-6744-48a9-9a39-48adc1cb92a0\">\n",
              "    <div class=\"colab-df-container\">\n",
              "      <div>\n",
              "<style scoped>\n",
              "    .dataframe tbody tr th:only-of-type {\n",
              "        vertical-align: middle;\n",
              "    }\n",
              "\n",
              "    .dataframe tbody tr th {\n",
              "        vertical-align: top;\n",
              "    }\n",
              "\n",
              "    .dataframe thead th {\n",
              "        text-align: right;\n",
              "    }\n",
              "</style>\n",
              "<table border=\"1\" class=\"dataframe\">\n",
              "  <thead>\n",
              "    <tr style=\"text-align: right;\">\n",
              "      <th></th>\n",
              "      <th>Model/Sample</th>\n",
              "      <th>Random_Under_Sampling</th>\n",
              "      <th>Random_Over_Sampling</th>\n",
              "      <th>TomLinks</th>\n",
              "      <th>SMOTE</th>\n",
              "      <th>NearMiss</th>\n",
              "    </tr>\n",
              "  </thead>\n",
              "  <tbody>\n",
              "    <tr>\n",
              "      <th>0</th>\n",
              "      <td>Support Vector Machine</td>\n",
              "      <td>0.75</td>\n",
              "      <td>0.928105</td>\n",
              "      <td>0.928105</td>\n",
              "      <td>0.928105</td>\n",
              "      <td>1.00</td>\n",
              "    </tr>\n",
              "    <tr>\n",
              "      <th>1</th>\n",
              "      <td>Decision-Tree -Classifier</td>\n",
              "      <td>0.50</td>\n",
              "      <td>0.993464</td>\n",
              "      <td>0.993464</td>\n",
              "      <td>0.973856</td>\n",
              "      <td>0.75</td>\n",
              "    </tr>\n",
              "    <tr>\n",
              "      <th>2</th>\n",
              "      <td>RandomForestClassifier</td>\n",
              "      <td>0.50</td>\n",
              "      <td>1.000000</td>\n",
              "      <td>1.000000</td>\n",
              "      <td>0.990196</td>\n",
              "      <td>0.75</td>\n",
              "    </tr>\n",
              "    <tr>\n",
              "      <th>3</th>\n",
              "      <td>KNeighborsClassifier</td>\n",
              "      <td>1.00</td>\n",
              "      <td>0.973856</td>\n",
              "      <td>0.973856</td>\n",
              "      <td>0.944444</td>\n",
              "      <td>1.00</td>\n",
              "    </tr>\n",
              "    <tr>\n",
              "      <th>4</th>\n",
              "      <td>GaussianNB</td>\n",
              "      <td>0.00</td>\n",
              "      <td>0.833333</td>\n",
              "      <td>0.833333</td>\n",
              "      <td>0.748366</td>\n",
              "      <td>1.00</td>\n",
              "    </tr>\n",
              "  </tbody>\n",
              "</table>\n",
              "</div>\n",
              "      <button class=\"colab-df-convert\" onclick=\"convertToInteractive('df-3365a2ab-6744-48a9-9a39-48adc1cb92a0')\"\n",
              "              title=\"Convert this dataframe to an interactive table.\"\n",
              "              style=\"display:none;\">\n",
              "        \n",
              "  <svg xmlns=\"http://www.w3.org/2000/svg\" height=\"24px\"viewBox=\"0 0 24 24\"\n",
              "       width=\"24px\">\n",
              "    <path d=\"M0 0h24v24H0V0z\" fill=\"none\"/>\n",
              "    <path d=\"M18.56 5.44l.94 2.06.94-2.06 2.06-.94-2.06-.94-.94-2.06-.94 2.06-2.06.94zm-11 1L8.5 8.5l.94-2.06 2.06-.94-2.06-.94L8.5 2.5l-.94 2.06-2.06.94zm10 10l.94 2.06.94-2.06 2.06-.94-2.06-.94-.94-2.06-.94 2.06-2.06.94z\"/><path d=\"M17.41 7.96l-1.37-1.37c-.4-.4-.92-.59-1.43-.59-.52 0-1.04.2-1.43.59L10.3 9.45l-7.72 7.72c-.78.78-.78 2.05 0 2.83L4 21.41c.39.39.9.59 1.41.59.51 0 1.02-.2 1.41-.59l7.78-7.78 2.81-2.81c.8-.78.8-2.07 0-2.86zM5.41 20L4 18.59l7.72-7.72 1.47 1.35L5.41 20z\"/>\n",
              "  </svg>\n",
              "      </button>\n",
              "      \n",
              "  <style>\n",
              "    .colab-df-container {\n",
              "      display:flex;\n",
              "      flex-wrap:wrap;\n",
              "      gap: 12px;\n",
              "    }\n",
              "\n",
              "    .colab-df-convert {\n",
              "      background-color: #E8F0FE;\n",
              "      border: none;\n",
              "      border-radius: 50%;\n",
              "      cursor: pointer;\n",
              "      display: none;\n",
              "      fill: #1967D2;\n",
              "      height: 32px;\n",
              "      padding: 0 0 0 0;\n",
              "      width: 32px;\n",
              "    }\n",
              "\n",
              "    .colab-df-convert:hover {\n",
              "      background-color: #E2EBFA;\n",
              "      box-shadow: 0px 1px 2px rgba(60, 64, 67, 0.3), 0px 1px 3px 1px rgba(60, 64, 67, 0.15);\n",
              "      fill: #174EA6;\n",
              "    }\n",
              "\n",
              "    [theme=dark] .colab-df-convert {\n",
              "      background-color: #3B4455;\n",
              "      fill: #D2E3FC;\n",
              "    }\n",
              "\n",
              "    [theme=dark] .colab-df-convert:hover {\n",
              "      background-color: #434B5C;\n",
              "      box-shadow: 0px 1px 3px 1px rgba(0, 0, 0, 0.15);\n",
              "      filter: drop-shadow(0px 1px 2px rgba(0, 0, 0, 0.3));\n",
              "      fill: #FFFFFF;\n",
              "    }\n",
              "  </style>\n",
              "\n",
              "      <script>\n",
              "        const buttonEl =\n",
              "          document.querySelector('#df-3365a2ab-6744-48a9-9a39-48adc1cb92a0 button.colab-df-convert');\n",
              "        buttonEl.style.display =\n",
              "          google.colab.kernel.accessAllowed ? 'block' : 'none';\n",
              "\n",
              "        async function convertToInteractive(key) {\n",
              "          const element = document.querySelector('#df-3365a2ab-6744-48a9-9a39-48adc1cb92a0');\n",
              "          const dataTable =\n",
              "            await google.colab.kernel.invokeFunction('convertToInteractive',\n",
              "                                                     [key], {});\n",
              "          if (!dataTable) return;\n",
              "\n",
              "          const docLinkHtml = 'Like what you see? Visit the ' +\n",
              "            '<a target=\"_blank\" href=https://colab.research.google.com/notebooks/data_table.ipynb>data table notebook</a>'\n",
              "            + ' to learn more about interactive tables.';\n",
              "          element.innerHTML = '';\n",
              "          dataTable['output_type'] = 'display_data';\n",
              "          await google.colab.output.renderOutput(dataTable, element);\n",
              "          const docLink = document.createElement('div');\n",
              "          docLink.innerHTML = docLinkHtml;\n",
              "          element.appendChild(docLink);\n",
              "        }\n",
              "      </script>\n",
              "    </div>\n",
              "  </div>\n",
              "  "
            ]
          },
          "metadata": {},
          "execution_count": 30
        }
      ]
    }
  ]
}